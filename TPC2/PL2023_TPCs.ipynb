{
  "cells": [
    {
      "cell_type": "markdown",
      "metadata": {
        "id": "E3nUK-2PqERR"
      },
      "source": [
        "#Enunciados dos Trabalhos para Casa (TPC)\n",
        "da UC de **Processamento de Linguagens**,\n",
        "ano Letivo 2022/23 , 3º ano de LEI\n",
        "\n",
        "Relativos à 1º parte do programa: Filtros de Texto baseados em ER\n",
        "**texto em negrito**"
      ]
    },
    {
      "cell_type": "markdown",
      "metadata": {
        "id": "0JpXqXdRLYK6"
      },
      "source": [
        "# TPC1: Análise de dados: doença cardíaca\n",
        "(publicado em **2023.02.14**)\n",
        "\n",
        "Descarregue o ficheiro de dados: `myheart.csv`\n",
        "Crie um programa em Python, conjunto de funções, que responda às seguintes questões:\n",
        "* Crie uma função que lê a informação do ficheiro para um modelo, previamente pensado em memória;\n",
        "* Pense num modelo para guardar uma distribuição;\n",
        "* Crie uma função que calcula a distribuição da doença por sexo;\n",
        "* Crie uma função que calcula a distribuição da doença por escalões etários. Considere os seguintes escalões: [30-34], [35-39], [40-44], ...\n",
        "* Crie uma função que calcula a distribuição da doença por níveis de colesterol. Considere um nível igual a um intervalo de 10 unidades, comece no limite inferior e crie os níveis necessários até abranger o limite superior;\n",
        "* Crie uma função que imprime na forma de uma tabela uma distribuição;\n",
        "* Especifique um programa que ao executar apresenta as tabelas correspondentes às distribuições pedidas;\n",
        "* Extra: explore o módulo matplotlib e crie gráficos para as suas distribuições."
      ]
    },
    {
      "cell_type": "markdown",
      "metadata": {
        "id": "BiWweXOrShgJ"
      },
      "source": [
        "# TPC2: Somador on/off\n",
        "\n",
        "(publicado em **2023.02.21**)\n",
        "\n",
        "Crie um programa em Python que tenha o seguinte comportamento:\n",
        "\n",
        "  * Pretende-se um programa que some todas as sequências de dígitos que encontre num texto;\n",
        "  * Prepare o programa para ler o texto do canal de entrada: stdin;\n",
        "  * Sempre que encontrar a string “Off” em qualquer combinação de maiúsculas e minúsculas, esse comportamento é desligado;\n",
        "  * Sempre que encontrar a string “On” em qualquer combinação de maiúsculas e minúsculas, esse comportamento é novamente ligado;\n",
        "  * Sempre que encontrar o caráter “=”, o resultado da soma é colocado na saída.\n"
      ]
    },
    {
      "cell_type": "markdown",
      "metadata": {},
      "source": [
        "Exercício 1\n"
      ]
    },
    {
      "cell_type": "code",
      "execution_count": null,
      "metadata": {},
      "outputs": [],
      "source": [
        "import re\n",
        "\n",
        "def sum_digits(text: str):\n",
        "  return sum(map(int,re.findall(\"\\d+\",text)))\n",
        "\n",
        "def sum_digits_no_regex(text: str):\n",
        "    digit_sum = 0\n",
        "    current_num = ''\n",
        "    for char in text:\n",
        "        if char.isdigit():\n",
        "            current_num += char\n",
        "        else:\n",
        "            if current_num:\n",
        "                digit_sum += int(current_num)\n",
        "                current_num = ''\n",
        "    if current_num:\n",
        "        digit_sum += int(current_num)\n",
        "    return digit_sum\n",
        "\n",
        "# 0 + 100 + 11 + 5 = 116\n",
        "print(sum_digits(\"s0dasd100asdas11db5\"))\n",
        "print(sum_digits_no_regex(\"s0dasd100asdas11db5\"))"
      ]
    },
    {
      "cell_type": "markdown",
      "metadata": {},
      "source": [
        "Exercício 2"
      ]
    },
    {
      "cell_type": "code",
      "execution_count": null,
      "metadata": {},
      "outputs": [],
      "source": [
        "def stdin_sum_digits():\n",
        "  return sum_digits(input(\"write some text\"))\n",
        "\n",
        "stdin_sum_digits()"
      ]
    },
    {
      "cell_type": "markdown",
      "metadata": {},
      "source": [
        "Exercício 3"
      ]
    },
    {
      "cell_type": "code",
      "execution_count": null,
      "metadata": {},
      "outputs": [],
      "source": [
        "def turnOff(text: str):\n",
        "  match = re.search(\"Off\",text)\n",
        "  res = text[:match.start()]\n",
        "  return sum_digits(res)\n",
        "\n",
        "def turnOff_no_regex(text: str):\n",
        "    off_index = text.find(\"Off\")\n",
        "    if off_index == -1:\n",
        "        return 0\n",
        "    return sum_digits(text[:off_index])\n",
        "\n",
        "text = \"Lorem Ipsum 123 sim1ly dummy text Off tHE pri15g AND TYpEStting\"\n",
        "print(turnOff(text))\n",
        "print(turnOff_no_regex(text))"
      ]
    },
    {
      "cell_type": "markdown",
      "metadata": {},
      "source": [
        "Exercício 4"
      ]
    },
    {
      "cell_type": "code",
      "execution_count": null,
      "metadata": {},
      "outputs": [],
      "source": [
        "def turnOn(text: str):\n",
        "  match = re.search(\"On\",text)\n",
        "  res = text[match.end():]\n",
        "  return sum_digits(res)\n",
        "\n",
        "def turnOn_no_regex(text: str):\n",
        "    on_index = text.find(\"On\")\n",
        "    if on_index == -1:\n",
        "        return 0\n",
        "    return sum_digits(text[on_index:])\n",
        "\n",
        "text = \"Lorem Ip214m is s12ply dummy text On tHE p123Ng AND TYpESt1ing\"\n",
        "print(turnOn(text))\n",
        "print(turnOn_no_regex(text))"
      ]
    },
    {
      "cell_type": "markdown",
      "metadata": {},
      "source": [
        "Exercício 5"
      ]
    },
    {
      "cell_type": "code",
      "execution_count": null,
      "metadata": {},
      "outputs": [],
      "source": [
        "def string_calculator(text: str):\n",
        "    if re.search(\"=\",text) != None:\n",
        "        return sum_digits(text)\n",
        "    return None\n",
        "\n",
        "def string_calculator_no_regex(text: str):\n",
        "    if text.find(\"=\") == -1:\n",
        "        return None\n",
        "    return sum_digits(text)\n",
        "\n",
        "# 0 + 100 + 11 + 5 = 116\n",
        "text = \"s0dasd100a=sdas11db5\"\n",
        "string_calculator(text)\n",
        "string_calculator_no_regex(text)"
      ]
    }
  ],
  "metadata": {
    "colab": {
      "provenance": []
    },
    "kernelspec": {
      "display_name": "Python 3.10.0a6 64-bit",
      "language": "python",
      "name": "python3"
    },
    "language_info": {
      "name": "python",
      "version": "3.10.0"
    },
    "vscode": {
      "interpreter": {
        "hash": "aee8b7b246df8f9039afb4144a1f6fd8d2ca17a180786b69acc140d282b71a49"
      }
    }
  },
  "nbformat": 4,
  "nbformat_minor": 0
}
