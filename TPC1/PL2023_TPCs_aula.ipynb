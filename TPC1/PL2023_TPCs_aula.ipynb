{
  "cells": [
    {
      "cell_type": "markdown",
      "metadata": {
        "id": "E3nUK-2PqERR"
      },
      "source": [
        "#Enunciados dos Trabalhos para Casa (TPC)\n",
        "da UC de **Processamento de Linguagens**,\n",
        "ano Letivo 2022/23 , 3º ano de LEI\n",
        "\n",
        "Relativos à 1º parte do programa: Filtros de Texto baseados em ER\n",
        "**texto em negrito**"
      ]
    },
    {
      "cell_type": "markdown",
      "metadata": {
        "id": "0JpXqXdRLYK6"
      },
      "source": [
        "# TPC1: Análise de dados: doença cardíaca\n",
        "(publicado em **2023.02.14**)\n",
        "\n",
        "Descarregue o ficheiro de dados: `myheart.csv`\n",
        "Crie um programa em Python, conjunto de funções, que responda às seguintes questões:\n",
        "* Crie uma função que lê a informação do ficheiro para um modelo, previamente pensado em memória;\n",
        "* Pense num modelo para guardar uma distribuição;\n",
        "* Crie uma função que calcula a distribuição da doença por sexo;\n",
        "* Crie uma função que calcula a distribuição da doença por escalões etários. Considere os seguintes escalões: [30-34], [35-39], [40-44], ...\n",
        "* Crie uma função que calcula a distribuição da doença por níveis de colesterol. Considere um nível igual a um intervalo de 10 unidades, comece no limite inferior e crie os níveis necessários até abranger o limite superior;\n",
        "* Crie uma função que imprime na forma de uma tabela uma distribuição;\n",
        "* Especifique um programa que ao executar apresenta as tabelas correspondentes às distribuições pedidas;\n",
        "* Extra: explore o módulo matplotlib e crie gráficos para as suas distribuições."
      ]
    },
    {
      "cell_type": "markdown",
      "metadata": {},
      "source": [
        "Exercício 1"
      ]
    },
    {
      "cell_type": "code",
      "execution_count": null,
      "metadata": {},
      "outputs": [],
      "source": [
        "# idade,sexo,tensão,colesterol,batimento,temDoenças\n",
        "\n",
        "with open(\"myheart.csv\") as f:\n",
        "  content = f.readlines()\n",
        "\n",
        "valid_lines = []\n",
        "\n",
        "for line in content[2]:\n",
        "  idade, genero, tensao, colesterol, batimento, temDoença = line.strip().split(\",\")\n",
        "  valid_lines.append((int(idade), genero, int(tensao), int(colesterol), int(batimento), bool(int(temDoença))))"
      ]
    },
    {
      "cell_type": "markdown",
      "metadata": {},
      "source": [
        "Exercício 2"
      ]
    },
    {
      "cell_type": "code",
      "execution_count": null,
      "metadata": {},
      "outputs": [
        {
          "ename": "",
          "evalue": "",
          "output_type": "error",
          "traceback": [
            "\u001b[1;31mJupyter cannot be started. Error attempting to locate Jupyter: 'Kernelspec' module not installed in the selected interpreter (/usr/local/bin/python3).\n",
            "\u001b[1;31m Please re-install or update 'jupyter'.\n",
            "\u001b[1;31mRun the following command to install 'jupyter and notebook' into the Python environment. \n",
            "\u001b[1;31mCommand: 'python -m pip install jupyter notebook -U\n",
            "\u001b[1;31mor\n",
            "\u001b[1;31mconda install jupyter notebook -U'\n",
            "\u001b[1;31mClick <a href='https://aka.ms/installJupyterForVSCode'>here</a> for more info."
          ]
        }
      ],
      "source": [
        "idade_maxima = max([x[0] for x in valid_lines])\n",
        "for idade in range(30, idade_maxima, 5):\n",
        "    pessoas = [x for x in valid_lines if x[0] in range(idade, idade+5)]\n",
        "    doentes = [x for x in pessoas if x[-1]]\n",
        "    distrib_idades[(idade, idade+4)] = len(doentes) / len(pessoas)\n"
      ]
    },
    {
      "cell_type": "markdown",
      "metadata": {},
      "source": [
        "Exercício 3"
      ]
    },
    {
      "cell_type": "code",
      "execution_count": null,
      "metadata": {},
      "outputs": [
        {
          "ename": "",
          "evalue": "",
          "output_type": "error",
          "traceback": [
            "\u001b[1;31mJupyter cannot be started. Error attempting to locate Jupyter: 'Kernelspec' module not installed in the selected interpreter (/usr/local/bin/python3).\n",
            "\u001b[1;31m Please re-install or update 'jupyter'.\n",
            "\u001b[1;31mRun the following command to install 'jupyter and notebook' into the Python environment. \n",
            "\u001b[1;31mCommand: 'python -m pip install jupyter notebook -U\n",
            "\u001b[1;31mor\n",
            "\u001b[1;31mconda install jupyter notebook -U'\n",
            "\u001b[1;31mClick <a href='https://aka.ms/installJupyterForVSCode'>here</a> for more info."
          ]
        }
      ],
      "source": [
        "def total_by_gender():\n",
        "    model = readfile()\n",
        "    total = dict()\n",
        "    total['M'] = 0\n",
        "    total['F'] = 0\n",
        "    for values in model.values():\n",
        "        total[values[\"gender\"]] = total.get(values[\"gender\"]) + 1\n",
        "    \n",
        "    return total\n",
        "\n",
        "def total():\n",
        "    return len(readfile().values())\n",
        "\n",
        "def distribution_by_gender():\n",
        "    model = readfile()\n",
        "    sick = dict()\n",
        "    sick['M'] = 0\n",
        "    sick['F'] = 0 \n",
        "    for values in model.values():\n",
        "        if int(values[\"is_sick\"]) == 1:\n",
        "            sick[values[\"gender\"]] = sick.get(values[\"gender\"]) + 1\n",
        "\n",
        "    return sick\n",
        "\n",
        "\n",
        "res = distribution_by_gender()\n",
        "total_doente_m = int(res['M'])\n",
        "total_doente_f = int(res['F'])\n",
        "total_gender = total_by_gender()\n",
        "print(distribution_by_gender())\n",
        "print(f\"doentes masculino: {res['M']} / {total_gender['M']}\")\n",
        "print(f\"doentes feminino: {res['F']} / {total_gender['F']}\")\n",
        "print(f\"doentes: {total_doente_m + total_doente_f} / {total()} \")"
      ]
    },
    {
      "cell_type": "markdown",
      "metadata": {},
      "source": [
        "Exercício 4"
      ]
    },
    {
      "cell_type": "code",
      "execution_count": null,
      "metadata": {},
      "outputs": [
        {
          "ename": "",
          "evalue": "",
          "output_type": "error",
          "traceback": [
            "\u001b[1;31mJupyter cannot be started. Error attempting to locate Jupyter: 'Kernelspec' module not installed in the selected interpreter (/usr/local/bin/python3).\n",
            "\u001b[1;31m Please re-install or update 'jupyter'.\n",
            "\u001b[1;31mRun the following command to install 'jupyter and notebook' into the Python environment. \n",
            "\u001b[1;31mCommand: 'python -m pip install jupyter notebook -U\n",
            "\u001b[1;31mor\n",
            "\u001b[1;31mconda install jupyter notebook -U'\n",
            "\u001b[1;31mClick <a href='https://aka.ms/installJupyterForVSCode'>here</a> for more info."
          ]
        }
      ],
      "source": [
        "# 0 - 4 5 - 9\n",
        "def distribution_by_age_group():\n",
        "    model = readfile()\n",
        "    age_group = dict()\n",
        "    for values in model.values():\n",
        "        lower_bound = int(values[\"age\"]) - (int(values[\"age\"]) % 5)\n",
        "        upper_bound = lower_bound + 4\n",
        "        k = str(lower_bound) + \"-\" + str(upper_bound)\n",
        "        if k not in age_group.keys():\n",
        "            age_group[k] = 1 \n",
        "        else:\n",
        "            age_group[k] = age_group.get(k) + 1\n",
        "                \n",
        "    return dict(sorted(age_group.items()))\n",
        "\n",
        "print(distribution_by_age_group())"
      ]
    },
    {
      "cell_type": "markdown",
      "metadata": {},
      "source": [
        "Exercício 5"
      ]
    },
    {
      "cell_type": "code",
      "execution_count": null,
      "metadata": {},
      "outputs": [
        {
          "ename": "",
          "evalue": "",
          "output_type": "error",
          "traceback": [
            "\u001b[1;31mJupyter cannot be started. Error attempting to locate Jupyter: 'Kernelspec' module not installed in the selected interpreter (/usr/local/bin/python3).\n",
            "\u001b[1;31m Please re-install or update 'jupyter'.\n",
            "\u001b[1;31mRun the following command to install 'jupyter and notebook' into the Python environment. \n",
            "\u001b[1;31mCommand: 'python -m pip install jupyter notebook -U\n",
            "\u001b[1;31mor\n",
            "\u001b[1;31mconda install jupyter notebook -U'\n",
            "\u001b[1;31mClick <a href='https://aka.ms/installJupyterForVSCode'>here</a> for more info."
          ]
        }
      ],
      "source": [
        "def distribution_by_colesterol():\n",
        "    colesterol = dict()\n",
        "    for values in readfile().values():\n",
        "        k = int(values[\"cholesterol\"])\n",
        "        if k not in colesterol.keys() and k != 0:\n",
        "            colesterol[k] = 1\n",
        "        else:\n",
        "            if k != 0:\n",
        "                colesterol[k] = colesterol.get(k) + 1\n",
        "    return dict(sorted(colesterol.items()))\n",
        "\n",
        "print(distribution_by_colesterol())"
      ]
    },
    {
      "cell_type": "markdown",
      "metadata": {},
      "source": [
        "Exercício 6"
      ]
    },
    {
      "cell_type": "code",
      "execution_count": null,
      "metadata": {},
      "outputs": [
        {
          "ename": "",
          "evalue": "",
          "output_type": "error",
          "traceback": [
            "\u001b[1;31mJupyter cannot be started. Error attempting to locate Jupyter: 'Kernelspec' module not installed in the selected interpreter (/usr/local/bin/python3).\n",
            "\u001b[1;31m Please re-install or update 'jupyter'.\n",
            "\u001b[1;31mRun the following command to install 'jupyter and notebook' into the Python environment. \n",
            "\u001b[1;31mCommand: 'python -m pip install jupyter notebook -U\n",
            "\u001b[1;31mor\n",
            "\u001b[1;31mconda install jupyter notebook -U'\n",
            "\u001b[1;31mClick <a href='https://aka.ms/installJupyterForVSCode'>here</a> for more info."
          ]
        }
      ],
      "source": [
        "def replicate(c:str,n:int):\n",
        "    res = str()\n",
        "    for _ in range(0,n):\n",
        "        res = res + c\n",
        "    return res\n",
        "\n",
        "def distribution_to_table(distribution:dict):\n",
        "    print(\"---------------\")\n",
        "    spaces = str()\n",
        "    spaces_out = str()\n",
        "    for k in distribution.keys():\n",
        "        match len(str(k)):\n",
        "            case 1:\n",
        "                spaces = replicate(\" \", 2)\n",
        "            case 2:\n",
        "                spaces = \" \"\n",
        "            case _:\n",
        "                spaces = \"\"\n",
        "        \n",
        "        match len(str(distribution.get(k))):\n",
        "            case 1:\n",
        "                spaces_out = replicate(\" \", 5)\n",
        "            case 2:\n",
        "                spaces_out = replicate(\" \", 4)\n",
        "            case 3:\n",
        "                spaces_out = replicate(\" \", 3)\n",
        "            case _:\n",
        "                spaces_out = replicate(\" \", 2)\n",
        "        \n",
        "        spaces_out = spaces_out + '|'\n",
        "        \n",
        "        print(f\"|{str(k)} {spaces}| {str(distribution[k])} {spaces_out}\")\n",
        "        print(\"---------------\")\n",
        "    \n",
        "distribution_to_table(distribution_by_gender())"
      ]
    },
    {
      "cell_type": "markdown",
      "metadata": {},
      "source": [
        "Exercício 7"
      ]
    },
    {
      "cell_type": "code",
      "execution_count": null,
      "metadata": {},
      "outputs": [
        {
          "ename": "",
          "evalue": "",
          "output_type": "error",
          "traceback": [
            "\u001b[1;31mJupyter cannot be started. Error attempting to locate Jupyter: 'Kernelspec' module not installed in the selected interpreter (/usr/local/bin/python3).\n",
            "\u001b[1;31m Please re-install or update 'jupyter'.\n",
            "\u001b[1;31mRun the following command to install 'jupyter and notebook' into the Python environment. \n",
            "\u001b[1;31mCommand: 'python -m pip install jupyter notebook -U\n",
            "\u001b[1;31mor\n",
            "\u001b[1;31mconda install jupyter notebook -U'\n",
            "\u001b[1;31mClick <a href='https://aka.ms/installJupyterForVSCode'>here</a> for more info."
          ]
        }
      ],
      "source": [
        "def distributions_to_table():\n",
        "    print(distribution_to_table(distribution_by_bpm()))\n",
        "    print(distribution_to_table(distribution_by_gender()))\n",
        "    print(distribution_to_table(distribution_by_age_group()))\n",
        "    print(distribution_to_table(distribution_by_colesterol()))\n",
        "\n",
        "print(distributions_to_table())"
      ]
    },
    {
      "cell_type": "markdown",
      "metadata": {},
      "source": [
        "Exercício 8"
      ]
    },
    {
      "cell_type": "code",
      "execution_count": null,
      "metadata": {},
      "outputs": [
        {
          "ename": "",
          "evalue": "",
          "output_type": "error",
          "traceback": [
            "\u001b[1;31mJupyter cannot be started. Error attempting to locate Jupyter: 'Kernelspec' module not installed in the selected interpreter (/usr/local/bin/python3).\n",
            "\u001b[1;31m Please re-install or update 'jupyter'.\n",
            "\u001b[1;31mRun the following command to install 'jupyter and notebook' into the Python environment. \n",
            "\u001b[1;31mCommand: 'python -m pip install jupyter notebook -U\n",
            "\u001b[1;31mor\n",
            "\u001b[1;31mconda install jupyter notebook -U'\n",
            "\u001b[1;31mClick <a href='https://aka.ms/installJupyterForVSCode'>here</a> for more info."
          ]
        }
      ],
      "source": [
        "import matplotlib.pyplot as plt;\n",
        "\n",
        "def distribution_graph():\n",
        "    bpm = distribution_by_bpm()\n",
        "    gender = distribution_by_gender()\n",
        "    total_gender = total_by_gender()\n",
        "    age_group = distribution_by_age_group()\n",
        "    colesterol = distribution_by_colesterol()\n",
        "    \n",
        "    _, ax = plt.subplots()\n",
        "    ax.bar(bpm.keys(), bpm.values())\n",
        "    ax.set_title('distribuição por bpm')\n",
        "    ax.set_xlabel(\"batimentos p/minuto\")\n",
        "    ax.set_ylabel('cardinalidade')\n",
        "    plt.show()\n",
        "    \n",
        "    _, bx = plt.subplots()\n",
        "    bx.bar(total_gender.keys(),total_gender.values())\n",
        "    bx.bar(gender.keys(), gender.values())\n",
        "    bx.set_title('distribuição por género')\n",
        "    bx.set_xlabel(\"sexo\")\n",
        "    bx.set_ylabel('cardinalidade')\n",
        "    plt.show()\n",
        "\n",
        "    _, cx = plt.subplots()\n",
        "    cx.bar(age_group.keys(), age_group.values())\n",
        "    cx.set_title('distribuição por faixa etária')\n",
        "    cx.set_xlabel(\"faixa etária\")\n",
        "    cx.set_ylabel('cardinalidade')\n",
        "    plt.show()\n",
        "\n",
        "    _, dx = plt.subplots()\n",
        "    dx.bar(colesterol.keys(), colesterol.values())\n",
        "    dx.set_title('distribuição por colesterol')\n",
        "    dx.set_xlabel(\"colesterol\")\n",
        "    dx.set_ylabel('cardinalidade')\n",
        "\n",
        "    plt.show()\n",
        "    \n",
        "distribution_graph()"
      ]
    }
  ],
  "metadata": {
    "colab": {
      "provenance": []
    },
    "kernelspec": {
      "display_name": "Python 3.10.0a6 64-bit",
      "language": "python",
      "name": "python3"
    },
    "language_info": {
      "name": "python",
      "version": "3.10.0"
    },
    "vscode": {
      "interpreter": {
        "hash": "aee8b7b246df8f9039afb4144a1f6fd8d2ca17a180786b69acc140d282b71a49"
      }
    }
  },
  "nbformat": 4,
  "nbformat_minor": 0
}
