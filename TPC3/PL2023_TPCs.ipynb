{
  "cells": [
    {
      "cell_type": "markdown",
      "metadata": {
        "id": "SN6uHpnNH5w4"
      },
      "source": [
        "# TPC3: Processador de Pessoas listadas nos Róis de Confessados\n",
        "\n",
        "(publicado em **2023.02.28**)\n",
        "\n",
        "Construa agora um ou vários programas Python\n",
        "para  processar o texto 'processos.txt' (procurar o ficheiro no Bb) com o intuito de\n",
        "calcular frequências de alguns elementos (a ideia é utilizar arrays associativos, dicionários em Python,\n",
        "para o efeito) conforme solicitado a seguir:\n",
        "\n",
        "* a) Calcula a frequência de processos por ano (primeiro elemento da data);\n",
        "\n",
        "* b) Calcula a frequência de nomes próprios (o primeiro em cada nome) e apelidos (o ultimo em cada nome) por séculos e apresenta os 5 mais usados;\n",
        "\n",
        "* c) Calcula a frequência dos vários tipos de relação: irmão, sobrinho, etc.;\n",
        "\n",
        "* d) Converta os 20 primeiros registos num novo ficheiro de output mas em formato **Json**.\n",
        "\n",
        "\n"
      ]
    },
    {
      "cell_type": "markdown",
      "metadata": {},
      "source": [
        "Exercício a)"
      ]
    },
    {
      "cell_type": "code",
      "execution_count": null,
      "metadata": {},
      "outputs": [],
      "source": [
        "import re\n",
        "import json\n",
        "\n",
        "def split_first_last_name(name):\n",
        "    return re.match(r\"\\w+\\b\", name).group(), re.search(r\"\\b\\w+$\", name).group()\n",
        "\n",
        "def parse(path):\n",
        "  file = open(path)\n",
        "  regex_str = r\"(?P<dir>\\d+)::(?P<year>\\d{4})-(?P<month>\\d{2})-(?P<day>\\d{2})::(?P<name>[a-zA-Z ]+)::(?P<father>[a-zA-Z ]+)::(?P<mother>[a-zA-Z ]+)::(?P<obs>[^:]*)::\"\n",
        "  res = []\n",
        "  regex = re.compile(regex_str)\n",
        "  for line in file.readlines():\n",
        "    if match := regex.finditer(line):\n",
        "      res = res + [m.groupdict() for m in match]\n",
        "\n",
        "  return res\n",
        "\n",
        "data = parse(\"processos.txt\")\n",
        "\n",
        "def group_by_year(data):\n",
        "  res = {}\n",
        "  for entry in data:\n",
        "    if entry[\"year\"] not in res:\n",
        "      res[entry[\"year\"]] = 0\n",
        "    \n",
        "    res[entry[\"year\"]] += 1\n",
        "  \n",
        "  return res\n",
        "\n",
        "print(group_by_year(data))"
      ]
    },
    {
      "cell_type": "markdown",
      "metadata": {},
      "source": [
        "Exercício b)"
      ]
    },
    {
      "cell_type": "code",
      "execution_count": null,
      "metadata": {},
      "outputs": [],
      "source": [
        "def top5_names_freq(data,century, idx):\n",
        "  names = {}\n",
        "  \n",
        "  for entry in data:\n",
        "    if (int(entry[\"year\"]) - 1) // 100 + 1 == century:\n",
        "      name = split_first_last_name(entry[\"name\"])\n",
        "      if name[idx] not in names:\n",
        "        names[name[idx]] = 0\n",
        "\n",
        "      names[name[idx]] += 1\n",
        "\n",
        "      father = split_first_last_name(entry[\"father\"])\n",
        "      if father[idx] not in names:\n",
        "        names[father[idx]] = 0\n",
        "\n",
        "      names[father[idx]] += 1\n",
        "\n",
        "      mother = split_first_last_name(entry[\"mother\"])\n",
        "      if mother[idx] not in names:\n",
        "          names[mother[idx]] = 0\n",
        "\n",
        "      names[mother[idx]] += 1\n",
        "  res = sorted(names.items(), key=lambda x:x[1], reverse=True)[:5]\n",
        "  return res\n",
        "\n",
        "def top5_names_freq_century(data):\n",
        "  first_name = {}\n",
        "  last_name = {}\n",
        "  for i in range(0,22):\n",
        "    first_name[i] = top5_names_freq(data,i,0)\n",
        "    last_name[i] = top5_names_freq(data,i,1)\n",
        "\n",
        "  return first_name, last_name\n",
        "\n",
        "def top5_names_freq_all(data):\n",
        "  first_name, last_name  = top5_names_freq_century(data)\n",
        "  sum_first_name = {}\n",
        "  sum_last_name = {}\n",
        "  aux = []\n",
        "\n",
        "  for lst in first_name.values():\n",
        "    aux.extend(lst)\n",
        "    for k, v in lst:\n",
        "      if k not in sum_first_name:\n",
        "        sum_first_name[k] = v\n",
        "      else:\n",
        "        sum_first_name[k] += v\n",
        "    \n",
        "  aux.clear()\n",
        "\n",
        "  for lst in last_name.values():\n",
        "    aux.extend(lst)\n",
        "    for k, v in lst:\n",
        "      if k not in sum_last_name:\n",
        "        sum_last_name[k] = v\n",
        "      else:\n",
        "        sum_last_name[k] += v\n",
        "\n",
        "  f_names = sorted(sum_first_name.items(), key=lambda x:x[1], reverse=True)[:5]\n",
        "  l_names = sorted(sum_last_name.items(), key=lambda x:x[1], reverse=True)[:5]\n",
        "  return f_names, l_names\n",
        "  \n",
        "\n",
        "print(top5_names_freq_century(data))\n",
        "print(top5_names_freq_all(data))"
      ]
    },
    {
      "cell_type": "markdown",
      "metadata": {},
      "source": [
        "Exercício c)"
      ]
    },
    {
      "cell_type": "code",
      "execution_count": null,
      "metadata": {},
      "outputs": [],
      "source": [
        "def freq_relation(data):\n",
        "  pattern = re.compile(r\",[^\\s*\\d+][\\w\\s]*.[\\s*](?i:Proc.)\")\n",
        "  res = {}\n",
        "  for entry in data:\n",
        "    if match := pattern.search(entry[\"obs\"]):\n",
        "      match = match.group().lower()\n",
        "      match = match[1:-7]\n",
        "      if match not in res:\n",
        "        res[match] = 0\n",
        "\n",
        "      res[match.lower()] += 1\n",
        "\n",
        "  return res\n",
        "\n",
        "print(freq_relation(data))"
      ]
    },
    {
      "cell_type": "markdown",
      "metadata": {},
      "source": [
        "Exercício d)"
      ]
    },
    {
      "cell_type": "code",
      "execution_count": null,
      "metadata": {},
      "outputs": [],
      "source": [
        "def to_json(data, out_file):\n",
        "  if \".json\" not in out_file:\n",
        "    out_file = out_file + \".json\"\n",
        "\n",
        "  file = open(out_file, \"w\")\n",
        "  file.write(\"[\\n\")\n",
        "  for i in range(0,20):\n",
        "    json.dump(data[i], file, indent=4, separators=(',', ': '))  \n",
        "    if i != 19: file.write(\",\\n\")\n",
        "  file.write(\"\\n]\")\n",
        "\n",
        "  file.close()\n",
        "\n",
        "to_json(data,\"teste\")"
      ]
    }
  ],
  "metadata": {
    "colab": {
      "provenance": []
    },
    "kernelspec": {
      "display_name": "Python 3.10.0a6 64-bit",
      "language": "python",
      "name": "python3"
    },
    "language_info": {
      "name": "python",
      "version": "3.10.0"
    },
    "vscode": {
      "interpreter": {
        "hash": "aee8b7b246df8f9039afb4144a1f6fd8d2ca17a180786b69acc140d282b71a49"
      }
    }
  },
  "nbformat": 4,
  "nbformat_minor": 0
}
